{
  "nbformat": 4,
  "nbformat_minor": 0,
  "metadata": {
    "colab": {
      "provenance": [],
      "authorship_tag": "ABX9TyO+JuR83kiBW/etMgNKzQc9",
      "include_colab_link": true
    },
    "kernelspec": {
      "name": "python3",
      "display_name": "Python 3"
    },
    "language_info": {
      "name": "python"
    }
  },
  "cells": [
    {
      "cell_type": "markdown",
      "metadata": {
        "id": "view-in-github",
        "colab_type": "text"
      },
      "source": [
        "<a href=\"https://colab.research.google.com/github/SinaQP/Athina/blob/main/Athina.ipynb\" target=\"_parent\"><img src=\"https://colab.research.google.com/assets/colab-badge.svg\" alt=\"Open In Colab\"/></a>"
      ]
    },
    {
      "cell_type": "markdown",
      "source": [
        "#Athina"
      ],
      "metadata": {
        "id": "fI2KR2kbTJoC"
      }
    },
    {
      "cell_type": "code",
      "source": [
        "%pip install openai faiss-cpu langchain langchain-community langchain-openai --upgrade --quiet"
      ],
      "metadata": {
        "colab": {
          "base_uri": "https://localhost:8080/"
        },
        "collapsed": true,
        "id": "nVfnylq0UNP4",
        "outputId": "d4387fcb-505a-48ca-9fd3-f5d448c54649"
      },
      "execution_count": null,
      "outputs": [
        {
          "output_type": "stream",
          "name": "stdout",
          "text": [
            "\u001b[?25l   \u001b[90m━━━━━━━━━━━━━━━━━━━━━━━━━━━━━━━━━━━━━━━━\u001b[0m \u001b[32m0.0/1.0 MB\u001b[0m \u001b[31m?\u001b[0m eta \u001b[36m-:--:--\u001b[0m\r\u001b[2K   \u001b[91m━━━━━━━━━━━━━━━━\u001b[0m\u001b[91m╸\u001b[0m\u001b[90m━━━━━━━━━━━━━━━━━━━━━━━\u001b[0m \u001b[32m0.4/1.0 MB\u001b[0m \u001b[31m12.7 MB/s\u001b[0m eta \u001b[36m0:00:01\u001b[0m\r\u001b[2K   \u001b[90m━━━━━━━━━━━━━━━━━━━━━━━━━━━━━━━━━━━━━━━━\u001b[0m \u001b[32m1.0/1.0 MB\u001b[0m \u001b[31m15.2 MB/s\u001b[0m eta \u001b[36m0:00:00\u001b[0m\n",
            "\u001b[2K   \u001b[90m━━━━━━━━━━━━━━━━━━━━━━━━━━━━━━━━━━━━━━━━\u001b[0m \u001b[32m2.5/2.5 MB\u001b[0m \u001b[31m66.4 MB/s\u001b[0m eta \u001b[36m0:00:00\u001b[0m\n",
            "\u001b[2K   \u001b[90m━━━━━━━━━━━━━━━━━━━━━━━━━━━━━━━━━━━━━━━━\u001b[0m \u001b[32m54.7/54.7 kB\u001b[0m \u001b[31m4.0 MB/s\u001b[0m eta \u001b[36m0:00:00\u001b[0m\n",
            "\u001b[2K   \u001b[90m━━━━━━━━━━━━━━━━━━━━━━━━━━━━━━━━━━━━━━━━\u001b[0m \u001b[32m413.0/413.0 kB\u001b[0m \u001b[31m25.2 MB/s\u001b[0m eta \u001b[36m0:00:00\u001b[0m\n",
            "\u001b[2K   \u001b[90m━━━━━━━━━━━━━━━━━━━━━━━━━━━━━━━━━━━━━━━━\u001b[0m \u001b[32m1.2/1.2 MB\u001b[0m \u001b[31m52.9 MB/s\u001b[0m eta \u001b[36m0:00:00\u001b[0m\n",
            "\u001b[2K   \u001b[90m━━━━━━━━━━━━━━━━━━━━━━━━━━━━━━━━━━━━━━━━\u001b[0m \u001b[32m50.9/50.9 kB\u001b[0m \u001b[31m3.7 MB/s\u001b[0m eta \u001b[36m0:00:00\u001b[0m\n",
            "\u001b[?25h"
          ]
        }
      ]
    },
    {
      "cell_type": "code",
      "execution_count": null,
      "metadata": {
        "id": "MewSSc1vTAk0"
      },
      "outputs": [],
      "source": [
        "from openai import OpenAI\n",
        "import faiss\n",
        "import numpy as np"
      ]
    },
    {
      "cell_type": "code",
      "source": [
        "AVALAI_API_KEY = \"\"\n",
        "AVALAI_BASE_URL = \"https://api.avalai.ir/v1\"\n",
        "client = OpenAI(api_key=AVALAI_API_KEY, base_url=AVALAI_BASE_URL)"
      ],
      "metadata": {
        "id": "QM4x7eRRiXJu"
      },
      "execution_count": null,
      "outputs": []
    },
    {
      "cell_type": "code",
      "source": [
        "def get_embedding(text):\n",
        "    response = client.embeddings.create(input=text, model=\"text-embedding-ada-002\")\n",
        "    return np.array(response.data[0].embedding, dtype=np.float32)"
      ],
      "metadata": {
        "id": "8-LaK8aEUHXl"
      },
      "execution_count": null,
      "outputs": []
    },
    {
      "cell_type": "code",
      "source": [
        "def store_data(question, answer):\n",
        "    embedding = get_embedding(question)\n",
        "    index.add(np.array([embedding]))  # Add embedding to FAISS index\n",
        "    data_store[len(data_store)] = {\"question\": question, \"answer\": answer, \"embedding\": embedding}"
      ],
      "metadata": {
        "id": "WHRZ--YBWb9F"
      },
      "execution_count": null,
      "outputs": []
    },
    {
      "cell_type": "code",
      "source": [
        "def search_similar_questions(query, top_k=5):\n",
        "    query_embedding = get_embedding(query)\n",
        "    distances, indices = index.search(np.array([query_embedding]), top_k)\n",
        "    results = []\n",
        "    for idx in indices[0]:\n",
        "        if idx in data_store:\n",
        "            results.append((data_store[idx][\"question\"], data_store[idx][\"answer\"]))\n",
        "    return results\n"
      ],
      "metadata": {
        "id": "q2HD4BEUWdmv"
      },
      "execution_count": null,
      "outputs": []
    },
    {
      "cell_type": "code",
      "source": [
        "dimension = 1536  # Dimension of OpenAI embeddings\n",
        "index = faiss.IndexFlatL2(dimension)\n",
        "data_store = {}"
      ],
      "metadata": {
        "id": "363V5LaPWTBD"
      },
      "execution_count": null,
      "outputs": []
    },
    {
      "cell_type": "code",
      "source": [
        "# Store some example data\n",
        "store_data(\"مراحل ایجاد حساب کاربری چیست؟\", \"ابتدا ایمیل خود را وارد کنید، سپس رمز عبور انتخاب کنید.\")\n",
        "store_data(\"چگونه یک حساب کاربری ایجاد کنم؟\", \"به صفحه ثبت‌نام بروید و اطلاعات خود را وارد کنید.\")\n",
        "store_data(\"سلام چطوری\", \"سلام من سینا قاسم پور هستم\")\n",
        "store_data(\"سلام\", \"سلام من سینا قاسم پور هستم\")\n",
        "store_data(\"صفحه عملکرد برای چیست\", \"سما در این عصر جدید تحول صفحه عملکرد را درست کردیم که برای شما و مدیریت سازمان شما کمک بفرمایید\")\n",
        "store_data(\"چگونه به صفحه عملکرد برم ؟\", \"شما برای وارد شدن به صفحه عملکرد اول باید روی دکمه عملکرد کارکنان کلید کنید و اطلاعات کاربری خود را وارد کنید\")\n"
      ],
      "metadata": {
        "id": "vjaecCxWWW0i"
      },
      "execution_count": null,
      "outputs": []
    },
    {
      "cell_type": "code",
      "source": [
        "link_tag = \"<LINK to='/working'>صفحه کاری</LINK> \"\n",
        "store_data(\"چگونه به صفحه کاری برم ؟\", f\"شما برای وارد شدن به صفحه کاری اول باید روی دکمه {link_tag} کلید کنید و اطلاعات کاربری خود را وارد کنید\")\n"
      ],
      "metadata": {
        "id": "pc0Sypc8pXdh"
      },
      "execution_count": null,
      "outputs": []
    },
    {
      "cell_type": "code",
      "source": [
        "from langchain.chat_models import ChatOpenAI\n",
        "from langchain.schema import HumanMessage, SystemMessage\n",
        "context_prompt = \"\"\"\n",
        "شما یک دستیار هوشمند هستید که به کاربران در سوالات مختلف کمک می‌کنید.\n",
        " با لحن دوستانه و کاربردی جواب دهید.\n",
        "\"\"\"\n",
        "\n",
        "def generate_response(user_query):\n",
        "    # Initialize the chat model\n",
        "    chat = ChatOpenAI(model=\"gpt-4o-mini\", openai_api_key=AVALAI_API_KEY, base_url=AVALAI_BASE_URL, temperature=0.1)\n",
        "\n",
        "    # Search for similar questions\n",
        "    similar_questions = search_similar_questions(user_query)\n",
        "\n",
        "    # Build the prompt text\n",
        "    prompt_text = context_prompt + \"\\n\\n\"\n",
        "    for q, a in similar_questions:\n",
        "        prompt_text += f\"سوال: {q}\\nپاسخ: {a}\\n\\n\"\n",
        "    prompt_text += f\"سوال جدید: {user_query}\\nپاسخ:\"\n",
        "\n",
        "    # Create the message format for the model\n",
        "    messages = [\n",
        "        SystemMessage(content=context_prompt),\n",
        "        HumanMessage(content=prompt_text)\n",
        "    ]\n",
        "\n",
        "    # Generate the response\n",
        "    response = chat(messages)\n",
        "\n",
        "    # Return the generated response\n",
        "    return response.content\n"
      ],
      "metadata": {
        "id": "70d_jaQQevZB"
      },
      "execution_count": null,
      "outputs": []
    },
    {
      "cell_type": "code",
      "source": [
        "result = generate_response(\"چگونه به صفحه کاری برم\")\n",
        "print(result)\n"
      ],
      "metadata": {
        "id": "on8doqplWfrX",
        "colab": {
          "base_uri": "https://localhost:8080/"
        },
        "outputId": "b653f775-b5bb-459e-a2c8-0ab46211db85"
      },
      "execution_count": null,
      "outputs": [
        {
          "output_type": "stream",
          "name": "stdout",
          "text": [
            "برای رفتن به صفحه کاری، کافی است روی دکمه <LINK to='/working'>صفحه کاری</LINK> کلیک کنید و سپس اطلاعات کاربری خود را وارد کنید. اگر سوال دیگری دارید، خوشحال می‌شوم کمک کنم!\n"
          ]
        }
      ]
    },
    {
      "cell_type": "code",
      "source": [
        "print(result)"
      ],
      "metadata": {
        "colab": {
          "base_uri": "https://localhost:8080/"
        },
        "id": "AuI94ZWGZzJT",
        "outputId": "6b1f3fe1-d49d-4f35-8bdc-555e390ebb08"
      },
      "execution_count": null,
      "outputs": [
        {
          "output_type": "stream",
          "name": "stdout",
          "text": [
            "برای ایجاد حساب کاربری، به صفحه ثبت‌نام وب‌سایت یا اپلیکیشن مورد نظر بروید. سپس اطلاعات مورد نیاز مانند ایمیل، نام کاربری و رمز عبور را وارد کنید و بر روی دکمه ثبت‌نام کلیک کنید. در برخی موارد ممکن است نیاز به تأیید ایمیل یا شماره تلفن داشته باشید.\n"
          ]
        }
      ]
    },
    {
      "cell_type": "code",
      "source": [],
      "metadata": {
        "id": "oRKjmMrQeUor"
      },
      "execution_count": null,
      "outputs": []
    }
  ]
}